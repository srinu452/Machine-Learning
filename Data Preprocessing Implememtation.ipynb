{
 "cells": [
  {
   "cell_type": "markdown",
   "id": "b29fbb22-2a9b-43ba-a8dc-6113ef422674",
   "metadata": {},
   "source": [
    "# <center> <font color='Darkblue'>Data Preprocessing Implementation<font><center>"
   ]
  },
  {
   "cell_type": "markdown",
   "id": "aa3e1b4c-343e-42bc-b058-97293b141520",
   "metadata": {},
   "source": [
    "# <font color='red'>1.Importing the Libraries<font>"
   ]
  },
  {
   "cell_type": "code",
   "execution_count": 90,
   "id": "0b375129-b6fa-485b-a1b8-0aa1e725f7a9",
   "metadata": {},
   "outputs": [],
   "source": [
    "import numpy as np\n",
    "import pandas as pd\n",
    "import matplotlib.pyplot as plt"
   ]
  },
  {
   "cell_type": "markdown",
   "id": "f13bb664-abdf-4ebb-9de6-ac0de3177498",
   "metadata": {},
   "source": [
    "# <font color='red'>2.Importing the Dataset<font>"
   ]
  },
  {
   "cell_type": "code",
   "execution_count": 92,
   "id": "9b027901-1def-4a15-b8a0-1d57f8e5d947",
   "metadata": {},
   "outputs": [],
   "source": [
    "dataset={\"States\":[\"Texas\",\"Florida\",\"California\",\"Texas\",\"California\",\"Texas\",\"California\",\"Texas\",\"Florida\",\"Texas\"],\n",
    "         \"Age\":[27,30,38,None,35,40,48,50,37,38],\n",
    "         \"Salary\":[58000,48000,54000,242422,242213,220000,None,234400,200000,340000],\n",
    "         \"Purchased\":[\"No\",\"Yes\",\"No\",\"No\",\"Yes\",\"Yes\",\"No\",\"Yes\",\"No\",\"Yes\"]\n",
    "        }"
   ]
  },
  {
   "cell_type": "code",
   "execution_count": 94,
   "id": "03e99e66-35fd-4b53-94d7-82cd5db657d5",
   "metadata": {},
   "outputs": [],
   "source": [
    "data=pd.DataFrame(dataset)"
   ]
  },
  {
   "cell_type": "code",
   "execution_count": 96,
   "id": "47a3466a-97fc-45f2-8d21-f96af8eb89f4",
   "metadata": {},
   "outputs": [
    {
     "name": "stdout",
     "output_type": "stream",
     "text": [
      "<class 'pandas.core.frame.DataFrame'>\n",
      "RangeIndex: 10 entries, 0 to 9\n",
      "Data columns (total 4 columns):\n",
      " #   Column     Non-Null Count  Dtype  \n",
      "---  ------     --------------  -----  \n",
      " 0   States     10 non-null     object \n",
      " 1   Age        9 non-null      float64\n",
      " 2   Salary     9 non-null      float64\n",
      " 3   Purchased  10 non-null     object \n",
      "dtypes: float64(2), object(2)\n",
      "memory usage: 452.0+ bytes\n"
     ]
    }
   ],
   "source": [
    "data.info()"
   ]
  },
  {
   "cell_type": "code",
   "execution_count": 98,
   "id": "78efc2f3-5011-4b8b-9e51-c13f2436df02",
   "metadata": {},
   "outputs": [
    {
     "data": {
      "text/html": [
       "<div>\n",
       "<style scoped>\n",
       "    .dataframe tbody tr th:only-of-type {\n",
       "        vertical-align: middle;\n",
       "    }\n",
       "\n",
       "    .dataframe tbody tr th {\n",
       "        vertical-align: top;\n",
       "    }\n",
       "\n",
       "    .dataframe thead th {\n",
       "        text-align: right;\n",
       "    }\n",
       "</style>\n",
       "<table border=\"1\" class=\"dataframe\">\n",
       "  <thead>\n",
       "    <tr style=\"text-align: right;\">\n",
       "      <th></th>\n",
       "      <th>States</th>\n",
       "      <th>Age</th>\n",
       "      <th>Salary</th>\n",
       "      <th>Purchased</th>\n",
       "    </tr>\n",
       "  </thead>\n",
       "  <tbody>\n",
       "    <tr>\n",
       "      <th>0</th>\n",
       "      <td>Texas</td>\n",
       "      <td>27.0</td>\n",
       "      <td>58000.0</td>\n",
       "      <td>No</td>\n",
       "    </tr>\n",
       "    <tr>\n",
       "      <th>1</th>\n",
       "      <td>Florida</td>\n",
       "      <td>30.0</td>\n",
       "      <td>48000.0</td>\n",
       "      <td>Yes</td>\n",
       "    </tr>\n",
       "    <tr>\n",
       "      <th>2</th>\n",
       "      <td>California</td>\n",
       "      <td>38.0</td>\n",
       "      <td>54000.0</td>\n",
       "      <td>No</td>\n",
       "    </tr>\n",
       "    <tr>\n",
       "      <th>3</th>\n",
       "      <td>Texas</td>\n",
       "      <td>NaN</td>\n",
       "      <td>242422.0</td>\n",
       "      <td>No</td>\n",
       "    </tr>\n",
       "    <tr>\n",
       "      <th>4</th>\n",
       "      <td>California</td>\n",
       "      <td>35.0</td>\n",
       "      <td>242213.0</td>\n",
       "      <td>Yes</td>\n",
       "    </tr>\n",
       "  </tbody>\n",
       "</table>\n",
       "</div>"
      ],
      "text/plain": [
       "       States   Age    Salary Purchased\n",
       "0       Texas  27.0   58000.0        No\n",
       "1     Florida  30.0   48000.0       Yes\n",
       "2  California  38.0   54000.0        No\n",
       "3       Texas   NaN  242422.0        No\n",
       "4  California  35.0  242213.0       Yes"
      ]
     },
     "execution_count": 98,
     "metadata": {},
     "output_type": "execute_result"
    }
   ],
   "source": [
    "data.head()"
   ]
  },
  {
   "cell_type": "code",
   "execution_count": 100,
   "id": "7f778135-3d4d-44b4-90c5-e09986371ae5",
   "metadata": {},
   "outputs": [
    {
     "data": {
      "text/html": [
       "<div>\n",
       "<style scoped>\n",
       "    .dataframe tbody tr th:only-of-type {\n",
       "        vertical-align: middle;\n",
       "    }\n",
       "\n",
       "    .dataframe tbody tr th {\n",
       "        vertical-align: top;\n",
       "    }\n",
       "\n",
       "    .dataframe thead th {\n",
       "        text-align: right;\n",
       "    }\n",
       "</style>\n",
       "<table border=\"1\" class=\"dataframe\">\n",
       "  <thead>\n",
       "    <tr style=\"text-align: right;\">\n",
       "      <th></th>\n",
       "      <th>States</th>\n",
       "      <th>Age</th>\n",
       "      <th>Salary</th>\n",
       "      <th>Purchased</th>\n",
       "    </tr>\n",
       "  </thead>\n",
       "  <tbody>\n",
       "    <tr>\n",
       "      <th>5</th>\n",
       "      <td>Texas</td>\n",
       "      <td>40.0</td>\n",
       "      <td>220000.0</td>\n",
       "      <td>Yes</td>\n",
       "    </tr>\n",
       "    <tr>\n",
       "      <th>6</th>\n",
       "      <td>California</td>\n",
       "      <td>48.0</td>\n",
       "      <td>NaN</td>\n",
       "      <td>No</td>\n",
       "    </tr>\n",
       "    <tr>\n",
       "      <th>7</th>\n",
       "      <td>Texas</td>\n",
       "      <td>50.0</td>\n",
       "      <td>234400.0</td>\n",
       "      <td>Yes</td>\n",
       "    </tr>\n",
       "    <tr>\n",
       "      <th>8</th>\n",
       "      <td>Florida</td>\n",
       "      <td>37.0</td>\n",
       "      <td>200000.0</td>\n",
       "      <td>No</td>\n",
       "    </tr>\n",
       "    <tr>\n",
       "      <th>9</th>\n",
       "      <td>Texas</td>\n",
       "      <td>38.0</td>\n",
       "      <td>340000.0</td>\n",
       "      <td>Yes</td>\n",
       "    </tr>\n",
       "  </tbody>\n",
       "</table>\n",
       "</div>"
      ],
      "text/plain": [
       "       States   Age    Salary Purchased\n",
       "5       Texas  40.0  220000.0       Yes\n",
       "6  California  48.0       NaN        No\n",
       "7       Texas  50.0  234400.0       Yes\n",
       "8     Florida  37.0  200000.0        No\n",
       "9       Texas  38.0  340000.0       Yes"
      ]
     },
     "execution_count": 100,
     "metadata": {},
     "output_type": "execute_result"
    }
   ],
   "source": [
    "data.tail()"
   ]
  },
  {
   "cell_type": "code",
   "execution_count": 102,
   "id": "09646305-31c1-476a-9871-6ef22ee5bf11",
   "metadata": {},
   "outputs": [],
   "source": [
    "X=data.iloc[:,:-1].values\n",
    "Y=data.iloc[:,-1].values"
   ]
  },
  {
   "cell_type": "code",
   "execution_count": 104,
   "id": "3db21419-fcfa-4d3e-8f96-90637d408795",
   "metadata": {},
   "outputs": [
    {
     "data": {
      "text/plain": [
       "array([['Texas', 27.0, 58000.0],\n",
       "       ['Florida', 30.0, 48000.0],\n",
       "       ['California', 38.0, 54000.0],\n",
       "       ['Texas', nan, 242422.0],\n",
       "       ['California', 35.0, 242213.0],\n",
       "       ['Texas', 40.0, 220000.0],\n",
       "       ['California', 48.0, nan],\n",
       "       ['Texas', 50.0, 234400.0],\n",
       "       ['Florida', 37.0, 200000.0],\n",
       "       ['Texas', 38.0, 340000.0]], dtype=object)"
      ]
     },
     "execution_count": 104,
     "metadata": {},
     "output_type": "execute_result"
    }
   ],
   "source": [
    "X"
   ]
  },
  {
   "cell_type": "code",
   "execution_count": 106,
   "id": "8be68d35-19c8-4105-bf56-c8bb9a5d625d",
   "metadata": {},
   "outputs": [
    {
     "data": {
      "text/plain": [
       "array(['No', 'Yes', 'No', 'No', 'Yes', 'Yes', 'No', 'Yes', 'No', 'Yes'],\n",
       "      dtype=object)"
      ]
     },
     "execution_count": 106,
     "metadata": {},
     "output_type": "execute_result"
    }
   ],
   "source": [
    "Y"
   ]
  },
  {
   "cell_type": "markdown",
   "id": "bc5867f5-e1f1-4c78-ac03-f61f5d4713d0",
   "metadata": {},
   "source": [
    "# <font color='red'>3.Handling the Missing values<font>"
   ]
  },
  {
   "cell_type": "code",
   "execution_count": 108,
   "id": "c1abbf9b-60ec-46ac-913b-92d99235c7c1",
   "metadata": {},
   "outputs": [],
   "source": [
    "# Handling the Misssing values\n",
    "from sklearn.impute import SimpleImputer\n",
    "imputer=SimpleImputer(missing_values=np.nan,strategy='mean')\n",
    "X[:, 1:3]=imputer.fit_transform(X[:, 1:3])"
   ]
  },
  {
   "cell_type": "code",
   "execution_count": 110,
   "id": "0bec9410-eabb-4d6f-be98-0e5d85d97d4d",
   "metadata": {},
   "outputs": [
    {
     "data": {
      "text/plain": [
       "array([['Texas', 27.0, 58000.0],\n",
       "       ['Florida', 30.0, 48000.0],\n",
       "       ['California', 38.0, 54000.0],\n",
       "       ['Texas', 38.111111111111114, 242422.0],\n",
       "       ['California', 35.0, 242213.0],\n",
       "       ['Texas', 40.0, 220000.0],\n",
       "       ['California', 48.0, 182115.0],\n",
       "       ['Texas', 50.0, 234400.0],\n",
       "       ['Florida', 37.0, 200000.0],\n",
       "       ['Texas', 38.0, 340000.0]], dtype=object)"
      ]
     },
     "execution_count": 110,
     "metadata": {},
     "output_type": "execute_result"
    }
   ],
   "source": [
    "X"
   ]
  },
  {
   "cell_type": "markdown",
   "id": "83cdcac2-601d-4c79-986a-db5eee09c6b6",
   "metadata": {},
   "source": [
    "# <font color='red'>4.Categorical Data <font>"
   ]
  },
  {
   "cell_type": "code",
   "execution_count": 113,
   "id": "dd811ee4-a13e-42fb-a02f-37d978810ed8",
   "metadata": {},
   "outputs": [],
   "source": [
    "from sklearn.preprocessing import OneHotEncoder\n",
    "from sklearn.compose import ColumnTransformer\n",
    "ct=ColumnTransformer(transformers=[('encoder',OneHotEncoder(),[0])],remainder='passthrough')\n",
    "X=ct.fit_transform(X)"
   ]
  },
  {
   "cell_type": "code",
   "execution_count": 115,
   "id": "19b79371-dc64-431e-af08-94fe65f0467d",
   "metadata": {},
   "outputs": [
    {
     "data": {
      "text/plain": [
       "array([[0.0, 0.0, 1.0, 27.0, 58000.0],\n",
       "       [0.0, 1.0, 0.0, 30.0, 48000.0],\n",
       "       [1.0, 0.0, 0.0, 38.0, 54000.0],\n",
       "       [0.0, 0.0, 1.0, 38.111111111111114, 242422.0],\n",
       "       [1.0, 0.0, 0.0, 35.0, 242213.0],\n",
       "       [0.0, 0.0, 1.0, 40.0, 220000.0],\n",
       "       [1.0, 0.0, 0.0, 48.0, 182115.0],\n",
       "       [0.0, 0.0, 1.0, 50.0, 234400.0],\n",
       "       [0.0, 1.0, 0.0, 37.0, 200000.0],\n",
       "       [0.0, 0.0, 1.0, 38.0, 340000.0]], dtype=object)"
      ]
     },
     "execution_count": 115,
     "metadata": {},
     "output_type": "execute_result"
    }
   ],
   "source": [
    "X"
   ]
  },
  {
   "cell_type": "code",
   "execution_count": 117,
   "id": "32e02a2e-131d-46ef-b798-955a9b8c7af2",
   "metadata": {},
   "outputs": [],
   "source": [
    "X=X[:,1:]#Avoiding the dummy variable trap"
   ]
  },
  {
   "cell_type": "code",
   "execution_count": 119,
   "id": "9ee6c465-8810-4e1b-b3ac-7041d122ca2a",
   "metadata": {},
   "outputs": [
    {
     "data": {
      "text/plain": [
       "array([[0.0, 1.0, 27.0, 58000.0],\n",
       "       [1.0, 0.0, 30.0, 48000.0],\n",
       "       [0.0, 0.0, 38.0, 54000.0],\n",
       "       [0.0, 1.0, 38.111111111111114, 242422.0],\n",
       "       [0.0, 0.0, 35.0, 242213.0],\n",
       "       [0.0, 1.0, 40.0, 220000.0],\n",
       "       [0.0, 0.0, 48.0, 182115.0],\n",
       "       [0.0, 1.0, 50.0, 234400.0],\n",
       "       [1.0, 0.0, 37.0, 200000.0],\n",
       "       [0.0, 1.0, 38.0, 340000.0]], dtype=object)"
      ]
     },
     "execution_count": 119,
     "metadata": {},
     "output_type": "execute_result"
    }
   ],
   "source": [
    "X\n"
   ]
  },
  {
   "cell_type": "markdown",
   "id": "15b25003-d328-4477-9001-cfebd137e816",
   "metadata": {},
   "source": [
    "# <font color='red'>5.Splitting the Datset to train and test data<font>"
   ]
  },
  {
   "cell_type": "code",
   "execution_count": 121,
   "id": "60e74cde-b976-4f23-9dd1-0f2ce1dc6074",
   "metadata": {},
   "outputs": [],
   "source": [
    "from sklearn.model_selection import train_test_split\n",
    "x_train,x_test,y_train,y_test=train_test_split(X,Y,test_size=0.2,random_state=0)\n"
   ]
  },
  {
   "cell_type": "code",
   "execution_count": 123,
   "id": "9d6132ab-5ef3-4b28-8818-6171d8d73639",
   "metadata": {},
   "outputs": [
    {
     "data": {
      "text/plain": [
       "array([[0.0, 0.0, 35.0, 242213.0],\n",
       "       [0.0, 1.0, 38.0, 340000.0],\n",
       "       [1.0, 0.0, 30.0, 48000.0],\n",
       "       [0.0, 0.0, 48.0, 182115.0],\n",
       "       [0.0, 1.0, 50.0, 234400.0],\n",
       "       [0.0, 1.0, 38.111111111111114, 242422.0],\n",
       "       [0.0, 1.0, 27.0, 58000.0],\n",
       "       [0.0, 1.0, 40.0, 220000.0]], dtype=object)"
      ]
     },
     "execution_count": 123,
     "metadata": {},
     "output_type": "execute_result"
    }
   ],
   "source": [
    "x_train"
   ]
  },
  {
   "cell_type": "markdown",
   "id": "a95b7307-91af-4b0e-8a4c-cfd1e6dc7346",
   "metadata": {},
   "source": [
    "# <font color='red'>6.Feature Scaling<font>"
   ]
  },
  {
   "cell_type": "code",
   "execution_count": 125,
   "id": "09610b64-edf9-4e42-b7af-e6bb459f3012",
   "metadata": {},
   "outputs": [],
   "source": [
    "from sklearn.preprocessing import StandardScaler\n",
    "sc=StandardScaler()\n",
    "x_train=sc.fit_transform(x_train)\n",
    "x_test=sc.transform(x_test)"
   ]
  },
  {
   "cell_type": "code",
   "execution_count": 127,
   "id": "4dacde02-3a86-4c46-8a8a-8fef33cc0b7b",
   "metadata": {},
   "outputs": [
    {
     "data": {
      "text/plain": [
       "array([[-0.37796447, -1.29099445, -0.4393767 ,  0.50159976],\n",
       "       [-0.37796447,  0.77459667, -0.03552407,  1.56055334],\n",
       "       [ 2.64575131, -1.29099445, -1.1124644 , -1.60156888],\n",
       "       [-0.37796447, -1.29099445,  1.31065133, -0.14921264],\n",
       "       [-0.37796447,  0.77459667,  1.57988641,  0.41699133],\n",
       "       [-0.37796447,  0.77459667, -0.02056657,  0.50386306],\n",
       "       [-0.37796447,  0.77459667, -1.51631702, -1.49327702],\n",
       "       [-0.37796447,  0.77459667,  0.23371101,  0.26105106]])"
      ]
     },
     "execution_count": 127,
     "metadata": {},
     "output_type": "execute_result"
    }
   ],
   "source": [
    "x_train"
   ]
  },
  {
   "cell_type": "code",
   "execution_count": 131,
   "id": "26300e20-64d0-4ec7-a36c-9e4f9e3cebfb",
   "metadata": {},
   "outputs": [
    {
     "data": {
      "text/plain": [
       "array([[-0.37796447, -1.29099445, -0.03552407, -1.53659377],\n",
       "       [ 2.64575131, -1.29099445, -0.17014161,  0.04446734]])"
      ]
     },
     "execution_count": 131,
     "metadata": {},
     "output_type": "execute_result"
    }
   ],
   "source": [
    "x_test"
   ]
  },
  {
   "cell_type": "code",
   "execution_count": null,
   "id": "263fdbe0-1b9d-42db-a17e-21ebcb1f58d8",
   "metadata": {},
   "outputs": [],
   "source": []
  }
 ],
 "metadata": {
  "kernelspec": {
   "display_name": "Python 3 (ipykernel)",
   "language": "python",
   "name": "python3"
  },
  "language_info": {
   "codemirror_mode": {
    "name": "ipython",
    "version": 3
   },
   "file_extension": ".py",
   "mimetype": "text/x-python",
   "name": "python",
   "nbconvert_exporter": "python",
   "pygments_lexer": "ipython3",
   "version": "3.12.7"
  }
 },
 "nbformat": 4,
 "nbformat_minor": 5
}
